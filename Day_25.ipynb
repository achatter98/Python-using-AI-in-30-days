{
  "nbformat": 4,
  "nbformat_minor": 0,
  "metadata": {
    "colab": {
      "provenance": []
    },
    "kernelspec": {
      "name": "python3",
      "display_name": "Python 3"
    },
    "language_info": {
      "name": "python"
    }
  },
  "cells": [
    {
      "cell_type": "code",
      "execution_count": 2,
      "metadata": {
        "id": "3wg4-8TRHGy8"
      },
      "outputs": [],
      "source": [
        "# Python user:\n",
        "# Matplotlib\n",
        "# Seaborn\n",
        "# Plotly\n",
        "\n",
        "# Non Python users:\n",
        "# Tableau\n",
        "# PowerBi\n",
        "# Google Looker Studio\n",
        "# Data Wrapper\n",
        "\n",
        "# Colors:\n",
        "# ColorBrewer\n",
        "# AdobeColor wheel\n",
        "# Pinterest"
      ]
    }
  ]
}