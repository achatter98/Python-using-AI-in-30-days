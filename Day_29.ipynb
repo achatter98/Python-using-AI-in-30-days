{
  "nbformat": 4,
  "nbformat_minor": 0,
  "metadata": {
    "colab": {
      "provenance": []
    },
    "kernelspec": {
      "name": "python3",
      "display_name": "Python 3"
    },
    "language_info": {
      "name": "python"
    }
  },
  "cells": [
    {
      "cell_type": "code",
      "execution_count": 2,
      "metadata": {
        "id": "AFOjzoSWOdLd"
      },
      "outputs": [],
      "source": [
        "# Popular Python Resources\n",
        "\n",
        "# --- Reading ---\n",
        "# W3schools  -  https://www.w3schools.com/python/\n",
        "# GeeksforGeeks - https://www.geeksforgeeks.org/python-programming-language-tutorial/\n",
        "# TutorialsPoint - https://www.tutorialspoint.com/python/index.htm\n",
        "\n",
        "# --- Testing\n",
        "# Hackerrank\n",
        "# LeetCode\n",
        "# Codechef\n",
        "\n",
        "# --- Youtube\n",
        "# TheNewBoston"
      ]
    }
  ]
}