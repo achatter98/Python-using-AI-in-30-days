{
  "nbformat": 4,
  "nbformat_minor": 0,
  "metadata": {
    "colab": {
      "provenance": []
    },
    "kernelspec": {
      "name": "python3",
      "display_name": "Python 3"
    },
    "language_info": {
      "name": "python"
    }
  },
  "cells": [
    {
      "cell_type": "code",
      "execution_count": 2,
      "metadata": {
        "id": "YYxnDY8JIqq3",
        "colab": {
          "base_uri": "https://localhost:8080/"
        },
        "outputId": "8c72b12a-afe7-498f-bee4-789da5025d73"
      },
      "outputs": [
        {
          "output_type": "stream",
          "name": "stdout",
          "text": [
            "Hurray,I can go for a movie!\n"
          ]
        }
      ],
      "source": [
        "ticket_price = 90\n",
        "wallet_size = 100\n",
        "\n",
        "#Comparison <,>,<=,>=,==,!=\n",
        "\n",
        "if ticket_price <= wallet_size:\n",
        "  print(\"Hurray,I can go for a movie!\")\n",
        "else:\n",
        "  print(\"Sad,I don't have enough parse\")"
      ]
    },
    {
      "cell_type": "code",
      "source": [
        "if(condition):\n",
        "  # to do\n",
        "else:\n",
        "  # to do"
      ],
      "metadata": {
        "id": "3PjrKPlULFrL"
      },
      "execution_count": null,
      "outputs": []
    },
    {
      "cell_type": "code",
      "source": [
        "marks = 85\n",
        "\n",
        "#90+ A+\n",
        "#80+ A\n",
        "#70+ B+\n",
        "#60+ B\n",
        "#60- Fail\n",
        "\n",
        "# if else elif"
      ],
      "metadata": {
        "id": "0XzAnmRmLbhr"
      },
      "execution_count": null,
      "outputs": []
    },
    {
      "cell_type": "code",
      "source": [
        "marks= 40\n",
        "\n",
        "if (marks >= 90):\n",
        "  print(\"A+\")\n",
        "elif(marks >= 80):\n",
        "  print(\"A\")\n",
        "elif(marks >= 70):\n",
        "  print(\"B+\")\n",
        "elif(marks >= 60):\n",
        "  print(\"B\")\n",
        "else:\n",
        "  print(\"Fail\")"
      ],
      "metadata": {
        "colab": {
          "base_uri": "https://localhost:8080/"
        },
        "id": "f80YJYo1LtxC",
        "outputId": "2eda3631-5425-49e4-fef8-43f95efd1531"
      },
      "execution_count": 3,
      "outputs": [
        {
          "output_type": "stream",
          "name": "stdout",
          "text": [
            "Fail\n"
          ]
        }
      ]
    }
  ]
}