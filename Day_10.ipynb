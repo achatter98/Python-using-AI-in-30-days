{
  "nbformat": 4,
  "nbformat_minor": 0,
  "metadata": {
    "colab": {
      "provenance": []
    },
    "kernelspec": {
      "name": "python3",
      "display_name": "Python 3"
    },
    "language_info": {
      "name": "python"
    }
  },
  "cells": [
    {
      "cell_type": "code",
      "execution_count": null,
      "metadata": {
        "id": "mzDrqufU0BMs"
      },
      "outputs": [],
      "source": []
    },
    {
      "cell_type": "markdown",
      "source": [
        "**1. Creating Strings**"
      ],
      "metadata": {
        "id": "1S-rNGLA0I4z"
      }
    },
    {
      "cell_type": "code",
      "source": [
        "single_quote_strings = 'Hello'\n",
        "double_quote_strings = \"Hello\"\n",
        "triple_quote_strings = '''Hello'''\n"
      ],
      "metadata": {
        "id": "bMv-GYi_0Ml9"
      },
      "execution_count": null,
      "outputs": []
    },
    {
      "cell_type": "code",
      "source": [
        "# to write a paragraph\n",
        "multiline_string = '''\n",
        "this is line 1 in my story\n",
        "this is line 2 in my story\n",
        "this is line 3 in my story\n",
        "'''"
      ],
      "metadata": {
        "id": "nd4uLpUt0pt0"
      },
      "execution_count": null,
      "outputs": []
    },
    {
      "cell_type": "code",
      "source": [
        "multiline_string"
      ],
      "metadata": {
        "colab": {
          "base_uri": "https://localhost:8080/",
          "height": 35
        },
        "id": "zKD6mBjn0zZR",
        "outputId": "fd539565-f66d-4be0-b354-268c5b1f1db3"
      },
      "execution_count": null,
      "outputs": [
        {
          "output_type": "execute_result",
          "data": {
            "text/plain": [
              "'\\nthis is line 1 in my story\\nthis is line 2 in my story\\nthis is line 3 in my story\\n'"
            ],
            "application/vnd.google.colaboratory.intrinsic+json": {
              "type": "string"
            }
          },
          "metadata": {},
          "execution_count": 3
        }
      ]
    },
    {
      "cell_type": "markdown",
      "source": [
        "**2. Accessing characters**"
      ],
      "metadata": {
        "id": "JG-WDYt32ncy"
      }
    },
    {
      "cell_type": "code",
      "source": [
        "single_quote_strings = 'Hello'\n",
        "double_quote_strings = \"Hello\"\n",
        "triple_quote_strings = '''Hello'''\n",
        "single_quote_strings[1]"
      ],
      "metadata": {
        "colab": {
          "base_uri": "https://localhost:8080/",
          "height": 35
        },
        "id": "cCq-RSJh2znY",
        "outputId": "e4083c51-d72a-4307-e61f-fb1dd792991e"
      },
      "execution_count": 2,
      "outputs": [
        {
          "output_type": "execute_result",
          "data": {
            "text/plain": [
              "'e'"
            ],
            "application/vnd.google.colaboratory.intrinsic+json": {
              "type": "string"
            }
          },
          "metadata": {},
          "execution_count": 2
        }
      ]
    },
    {
      "cell_type": "markdown",
      "source": [
        "**3. Slicing a String**"
      ],
      "metadata": {
        "id": "lj99NzmM3KC5"
      }
    },
    {
      "cell_type": "code",
      "source": [
        "single_quote_strings = 'Hello'\n",
        "double_quote_strings = \"Hello\"\n",
        "triple_quote_strings = '''Hello'''\n",
        "single_quote_strings[1:4]"
      ],
      "metadata": {
        "colab": {
          "base_uri": "https://localhost:8080/",
          "height": 35
        },
        "id": "7wfmFcN23P3I",
        "outputId": "6c46a859-0ad7-4b08-9815-eec6c7149d3d"
      },
      "execution_count": 3,
      "outputs": [
        {
          "output_type": "execute_result",
          "data": {
            "text/plain": [
              "'ell'"
            ],
            "application/vnd.google.colaboratory.intrinsic+json": {
              "type": "string"
            }
          },
          "metadata": {},
          "execution_count": 3
        }
      ]
    },
    {
      "cell_type": "code",
      "source": [
        "single_quote_strings[:4]"
      ],
      "metadata": {
        "colab": {
          "base_uri": "https://localhost:8080/",
          "height": 35
        },
        "id": "gYSEjUI03Xk4",
        "outputId": "1abddbc2-441e-4bee-a334-20c32a69576f"
      },
      "execution_count": 4,
      "outputs": [
        {
          "output_type": "execute_result",
          "data": {
            "text/plain": [
              "'Hell'"
            ],
            "application/vnd.google.colaboratory.intrinsic+json": {
              "type": "string"
            }
          },
          "metadata": {},
          "execution_count": 4
        }
      ]
    },
    {
      "cell_type": "code",
      "source": [
        "# to write a paragraph\n",
        "multiline_string = '''\n",
        "this is line 1 in my story\n",
        "this is line 2 in my story\n",
        "this is line 3 in my story\n",
        "'''\n",
        "multiline_string[:15]"
      ],
      "metadata": {
        "colab": {
          "base_uri": "https://localhost:8080/",
          "height": 35
        },
        "id": "uW6j0Bk33fV-",
        "outputId": "71448924-0971-4132-b385-e799664a5db6"
      },
      "execution_count": 6,
      "outputs": [
        {
          "output_type": "execute_result",
          "data": {
            "text/plain": [
              "'\\nthis is line 1'"
            ],
            "application/vnd.google.colaboratory.intrinsic+json": {
              "type": "string"
            }
          },
          "metadata": {},
          "execution_count": 6
        }
      ]
    },
    {
      "cell_type": "markdown",
      "source": [
        "**4. Negative indexing**"
      ],
      "metadata": {
        "id": "V3e6--tF3rIQ"
      }
    },
    {
      "cell_type": "code",
      "source": [
        "single_quote_strings = 'Hello'\n",
        "double_quote_strings = \"Hello\"\n",
        "triple_quote_strings = '''Hello'''\n",
        "double_quote_strings[-1]"
      ],
      "metadata": {
        "colab": {
          "base_uri": "https://localhost:8080/",
          "height": 35
        },
        "id": "gnxEHUx63vFv",
        "outputId": "66a468d2-6134-4392-e5b4-5b98a8257dcb"
      },
      "execution_count": 7,
      "outputs": [
        {
          "output_type": "execute_result",
          "data": {
            "text/plain": [
              "'o'"
            ],
            "application/vnd.google.colaboratory.intrinsic+json": {
              "type": "string"
            }
          },
          "metadata": {},
          "execution_count": 7
        }
      ]
    },
    {
      "cell_type": "markdown",
      "source": [
        "**5. String Concatenation**"
      ],
      "metadata": {
        "id": "SsSpxnm_33Go"
      }
    },
    {
      "cell_type": "code",
      "source": [
        "\"Hello\"+ \" \"+ \"World\"+ \"!\""
      ],
      "metadata": {
        "colab": {
          "base_uri": "https://localhost:8080/",
          "height": 35
        },
        "id": "FWWMatKl37AP",
        "outputId": "8f08392f-da07-40af-a57c-57cec48682fc"
      },
      "execution_count": 8,
      "outputs": [
        {
          "output_type": "execute_result",
          "data": {
            "text/plain": [
              "'Hello World!'"
            ],
            "application/vnd.google.colaboratory.intrinsic+json": {
              "type": "string"
            }
          },
          "metadata": {},
          "execution_count": 8
        }
      ]
    },
    {
      "cell_type": "markdown",
      "source": [
        "**6. String repetition**"
      ],
      "metadata": {
        "id": "xPdF_1Pq4Eqm"
      }
    },
    {
      "cell_type": "code",
      "source": [
        "\"ha \"*3 + \"!\""
      ],
      "metadata": {
        "colab": {
          "base_uri": "https://localhost:8080/",
          "height": 35
        },
        "id": "ylVLEcZ14KjX",
        "outputId": "77bfb3b3-38d5-49fc-ccb1-4ace4dfd292c"
      },
      "execution_count": 11,
      "outputs": [
        {
          "output_type": "execute_result",
          "data": {
            "text/plain": [
              "'ha ha ha !'"
            ],
            "application/vnd.google.colaboratory.intrinsic+json": {
              "type": "string"
            }
          },
          "metadata": {},
          "execution_count": 11
        }
      ]
    },
    {
      "cell_type": "markdown",
      "source": [
        "**7. String Length**"
      ],
      "metadata": {
        "id": "vvnFQ7534VWn"
      }
    },
    {
      "cell_type": "code",
      "source": [
        "x = \"Hello\""
      ],
      "metadata": {
        "id": "oLYgkaDd4Zux"
      },
      "execution_count": 12,
      "outputs": []
    },
    {
      "cell_type": "code",
      "source": [
        "len(x)"
      ],
      "metadata": {
        "colab": {
          "base_uri": "https://localhost:8080/"
        },
        "id": "umHVD_Wh4duH",
        "outputId": "b497d2c6-e770-48f8-c99b-1c6508426184"
      },
      "execution_count": 15,
      "outputs": [
        {
          "output_type": "execute_result",
          "data": {
            "text/plain": [
              "5"
            ]
          },
          "metadata": {},
          "execution_count": 15
        }
      ]
    },
    {
      "cell_type": "markdown",
      "source": [
        "**8. Checking Substrings**"
      ],
      "metadata": {
        "id": "hT64er-44lCP"
      }
    },
    {
      "cell_type": "code",
      "source": [
        "\"Hello World\" --> \"World\""
      ],
      "metadata": {
        "id": "uMm-ERTm4qAv"
      },
      "execution_count": null,
      "outputs": []
    },
    {
      "cell_type": "code",
      "source": [
        "x = \"Hello World\""
      ],
      "metadata": {
        "id": "jlWlSwf94x0U"
      },
      "execution_count": 16,
      "outputs": []
    },
    {
      "cell_type": "code",
      "source": [
        "print(\"Hello\" in x)"
      ],
      "metadata": {
        "colab": {
          "base_uri": "https://localhost:8080/"
        },
        "id": "w1eBASyC41Qh",
        "outputId": "c935f6e7-d49e-4b75-92bf-b40ce05cd243"
      },
      "execution_count": 17,
      "outputs": [
        {
          "output_type": "stream",
          "name": "stdout",
          "text": [
            "True\n"
          ]
        }
      ]
    },
    {
      "cell_type": "code",
      "source": [
        "print(\"hello\" in x)"
      ],
      "metadata": {
        "colab": {
          "base_uri": "https://localhost:8080/"
        },
        "id": "_w49zRFT46KH",
        "outputId": "3c62c910-3061-4ddd-ed28-25fd94e5ae04"
      },
      "execution_count": 18,
      "outputs": [
        {
          "output_type": "stream",
          "name": "stdout",
          "text": [
            "False\n"
          ]
        }
      ]
    },
    {
      "cell_type": "markdown",
      "source": [
        "**9. String methods/Functions**"
      ],
      "metadata": {
        "id": "Z0s6k-O65BF3"
      }
    },
    {
      "cell_type": "code",
      "source": [
        "name = \"david\""
      ],
      "metadata": {
        "id": "EnHzJflW5G72"
      },
      "execution_count": 20,
      "outputs": []
    },
    {
      "cell_type": "code",
      "source": [
        "name.upper()"
      ],
      "metadata": {
        "colab": {
          "base_uri": "https://localhost:8080/",
          "height": 35
        },
        "id": "sVFtDV3i5oC-",
        "outputId": "3a884d59-0e4a-47c8-811d-d83932e44d97"
      },
      "execution_count": 21,
      "outputs": [
        {
          "output_type": "execute_result",
          "data": {
            "text/plain": [
              "'DAVID'"
            ],
            "application/vnd.google.colaboratory.intrinsic+json": {
              "type": "string"
            }
          },
          "metadata": {},
          "execution_count": 21
        }
      ]
    },
    {
      "cell_type": "code",
      "source": [
        "# some other functions such as join,strip,split,replace"
      ],
      "metadata": {
        "id": "0ixggsF45uym"
      },
      "execution_count": null,
      "outputs": []
    },
    {
      "cell_type": "markdown",
      "source": [
        "**10. String Formatting - F String**"
      ],
      "metadata": {
        "id": "ErVUclof5078"
      }
    },
    {
      "cell_type": "code",
      "source": [
        "name = \"Sachin\"\n",
        "print(f\"My name is {name}\")"
      ],
      "metadata": {
        "colab": {
          "base_uri": "https://localhost:8080/"
        },
        "id": "R-gqDhhj59Bu",
        "outputId": "92691f30-9c0d-4e08-f976-0497511fbf06"
      },
      "execution_count": 22,
      "outputs": [
        {
          "output_type": "stream",
          "name": "stdout",
          "text": [
            "My name is Sachin\n"
          ]
        }
      ]
    }
  ]
}