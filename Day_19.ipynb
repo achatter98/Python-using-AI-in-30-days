{
  "nbformat": 4,
  "nbformat_minor": 0,
  "metadata": {
    "colab": {
      "provenance": []
    },
    "kernelspec": {
      "name": "python3",
      "display_name": "Python 3"
    },
    "language_info": {
      "name": "python"
    }
  },
  "cells": [
    {
      "cell_type": "code",
      "execution_count": null,
      "metadata": {
        "id": "1G6wrym6f1LE"
      },
      "outputs": [],
      "source": []
    },
    {
      "cell_type": "markdown",
      "source": [
        "Q1. Lets say we have a list L1 = [1,2,2,3,2,3,4,5],now identify the most repetitive element in the list?"
      ],
      "metadata": {
        "id": "RuAQLHm8gYUT"
      }
    },
    {
      "cell_type": "code",
      "source": [
        "#1s - 1\n",
        "#2s - 3\n",
        "#3s - 2\n",
        "#4s - 1\n",
        "#5s - 1"
      ],
      "metadata": {
        "id": "wLNNu7JCgs8G"
      },
      "execution_count": 1,
      "outputs": []
    },
    {
      "cell_type": "code",
      "source": [
        "num_counter = {}\n",
        "\n",
        "# {1: 1,2 :3,3 :2,...}\n",
        "\n",
        "L1 = [1,2,2,3,2,3,4,5]\n",
        "for i in L1:\n",
        "  if i in num_counter:\n",
        "    num_counter[i]+=1\n",
        "  else:\n",
        "    num_counter[i]=1"
      ],
      "metadata": {
        "id": "Kwp-TzUnhAzS"
      },
      "execution_count": 7,
      "outputs": []
    },
    {
      "cell_type": "code",
      "source": [
        "num_counter"
      ],
      "metadata": {
        "colab": {
          "base_uri": "https://localhost:8080/"
        },
        "id": "LwWezci1h7sM",
        "outputId": "068c556b-6d53-497e-e277-1a9e66077be7"
      },
      "execution_count": 9,
      "outputs": [
        {
          "output_type": "execute_result",
          "data": {
            "text/plain": [
              "{1: 1, 2: 3, 3: 2, 4: 1, 5: 1}"
            ]
          },
          "metadata": {},
          "execution_count": 9
        }
      ]
    },
    {
      "cell_type": "code",
      "source": [
        "temp = 0\n",
        "\n",
        "for k,v in num_counter.items():\n",
        "  print(f\"k: {k}, v: {v},temp: {temp}\")\n",
        "  if v > temp:\n",
        "    temp = v\n",
        "    final_result = k\n"
      ],
      "metadata": {
        "colab": {
          "base_uri": "https://localhost:8080/"
        },
        "id": "99R8FlD4nKNN",
        "outputId": "c541bcdd-1670-4874-d0db-206033451a6d"
      },
      "execution_count": 10,
      "outputs": [
        {
          "output_type": "stream",
          "name": "stdout",
          "text": [
            "k: 1, v: 1,temp: 0\n",
            "k: 2, v: 3,temp: 1\n",
            "k: 3, v: 2,temp: 3\n",
            "k: 4, v: 1,temp: 3\n",
            "k: 5, v: 1,temp: 3\n"
          ]
        }
      ]
    },
    {
      "cell_type": "code",
      "source": [
        "final_result"
      ],
      "metadata": {
        "colab": {
          "base_uri": "https://localhost:8080/"
        },
        "id": "NLkEEYb2nx6a",
        "outputId": "4e8d1292-b6f5-4dbc-84a6-a2a46567da44"
      },
      "execution_count": 11,
      "outputs": [
        {
          "output_type": "execute_result",
          "data": {
            "text/plain": [
              "2"
            ]
          },
          "metadata": {},
          "execution_count": 11
        }
      ]
    }
  ]
}