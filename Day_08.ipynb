{
  "nbformat": 4,
  "nbformat_minor": 0,
  "metadata": {
    "colab": {
      "provenance": []
    },
    "kernelspec": {
      "name": "python3",
      "display_name": "Python 3"
    },
    "language_info": {
      "name": "python"
    }
  },
  "cells": [
    {
      "cell_type": "code",
      "execution_count": null,
      "metadata": {
        "id": "X9WXR6Ihn6cU"
      },
      "outputs": [],
      "source": []
    },
    {
      "cell_type": "markdown",
      "source": [
        "**Function - Basics**"
      ],
      "metadata": {
        "id": "sSoMd5hLoALm"
      }
    },
    {
      "cell_type": "code",
      "source": [
        "# input, logic, output"
      ],
      "metadata": {
        "id": "-IHlae1foMCC"
      },
      "execution_count": null,
      "outputs": []
    },
    {
      "cell_type": "code",
      "source": [
        "print(\"Hello Aditya!\")"
      ],
      "metadata": {
        "colab": {
          "base_uri": "https://localhost:8080/"
        },
        "id": "w53oVafjoj0E",
        "outputId": "1b4b7d63-cc16-462c-82e0-b13a98cbbe51"
      },
      "execution_count": 1,
      "outputs": [
        {
          "output_type": "stream",
          "name": "stdout",
          "text": [
            "Hello Aditya!\n"
          ]
        }
      ]
    },
    {
      "cell_type": "markdown",
      "source": [
        "**1. Defining a Function**"
      ],
      "metadata": {
        "id": "whf7nBHHovBM"
      }
    },
    {
      "cell_type": "code",
      "source": [
        "def hello():\n",
        "  print(\"Hello World!\")"
      ],
      "metadata": {
        "id": "hOzsayJTo1Lk"
      },
      "execution_count": 3,
      "outputs": []
    },
    {
      "cell_type": "markdown",
      "source": [
        "**2. Calling a Function**"
      ],
      "metadata": {
        "id": "T6Vi7VpLpfQj"
      }
    },
    {
      "cell_type": "code",
      "source": [
        "hello()"
      ],
      "metadata": {
        "colab": {
          "base_uri": "https://localhost:8080/"
        },
        "id": "1pqL8HMrpDQ2",
        "outputId": "96e18293-f4b2-4553-95ce-a11088a51864"
      },
      "execution_count": 4,
      "outputs": [
        {
          "output_type": "stream",
          "name": "stdout",
          "text": [
            "Hello World!\n"
          ]
        }
      ]
    },
    {
      "cell_type": "code",
      "source": [
        "# input - inside braces - no\n",
        "# logic - print\n",
        "# output - Hello World"
      ],
      "metadata": {
        "id": "N2E8YTpgpNW4"
      },
      "execution_count": null,
      "outputs": []
    },
    {
      "cell_type": "markdown",
      "source": [
        "**3. Function with parameters/Params**"
      ],
      "metadata": {
        "id": "WmmF7G1zp8sG"
      }
    },
    {
      "cell_type": "code",
      "source": [
        "def hello(name):\n",
        "  print(f\"Hello {name}!\")"
      ],
      "metadata": {
        "id": "ChBOgMyhprRc"
      },
      "execution_count": 5,
      "outputs": []
    },
    {
      "cell_type": "code",
      "source": [
        "hello(\"Aditya\")"
      ],
      "metadata": {
        "colab": {
          "base_uri": "https://localhost:8080/"
        },
        "id": "J63Ps67rp2FS",
        "outputId": "fd3b29c0-4458-4ebf-87f5-dbbaa1feb9b2"
      },
      "execution_count": 6,
      "outputs": [
        {
          "output_type": "stream",
          "name": "stdout",
          "text": [
            "Hello Aditya!\n"
          ]
        }
      ]
    },
    {
      "cell_type": "markdown",
      "source": [
        "**F Strings -  to pass dynamic values in a string**"
      ],
      "metadata": {
        "id": "OVyp5sRarQDo"
      }
    },
    {
      "cell_type": "code",
      "source": [
        "country = \"India\"\n",
        "capital = \"New Delhi\"\n",
        "print(f\"{capital} is the capital city of {country}\")"
      ],
      "metadata": {
        "colab": {
          "base_uri": "https://localhost:8080/"
        },
        "id": "7b43ZDGrqslY",
        "outputId": "e8a854ef-b68e-437f-dea7-a3235ca6498b"
      },
      "execution_count": 7,
      "outputs": [
        {
          "output_type": "stream",
          "name": "stdout",
          "text": [
            "New Delhi is the capital city of India\n"
          ]
        }
      ]
    },
    {
      "cell_type": "markdown",
      "source": [
        "# two numbers = add them\n",
        "\n"
      ],
      "metadata": {
        "id": "5rlPt0ZvrcWg"
      }
    },
    {
      "cell_type": "code",
      "source": [
        "def add_numbers(x,y):\n",
        "  print(x+y)\n",
        "\n",
        ""
      ],
      "metadata": {
        "id": "cFgcDP4ErjVj"
      },
      "execution_count": 12,
      "outputs": []
    },
    {
      "cell_type": "code",
      "source": [
        "add_numbers(10,20)"
      ],
      "metadata": {
        "colab": {
          "base_uri": "https://localhost:8080/"
        },
        "id": "dNFWel9Fr8Fy",
        "outputId": "098d89ac-d3b9-4658-b2ca-1ee6d7c0cba8"
      },
      "execution_count": 13,
      "outputs": [
        {
          "output_type": "stream",
          "name": "stdout",
          "text": [
            "30\n"
          ]
        }
      ]
    },
    {
      "cell_type": "code",
      "source": [
        "v = add_numbers(5,6)"
      ],
      "metadata": {
        "colab": {
          "base_uri": "https://localhost:8080/"
        },
        "id": "cN-up9HFsX_v",
        "outputId": "23dbd24e-2be7-46e3-c9d0-78bf6d78c267"
      },
      "execution_count": 14,
      "outputs": [
        {
          "output_type": "stream",
          "name": "stdout",
          "text": [
            "11\n"
          ]
        }
      ]
    },
    {
      "cell_type": "code",
      "source": [
        "v # does not return anything"
      ],
      "metadata": {
        "id": "OmcWp7f5sdZy"
      },
      "execution_count": 15,
      "outputs": []
    },
    {
      "cell_type": "code",
      "source": [
        "# to return a value for v perform this"
      ],
      "metadata": {
        "id": "eyBYei-Oss2u"
      },
      "execution_count": 16,
      "outputs": []
    },
    {
      "cell_type": "markdown",
      "source": [
        "**4. Function with Return Value**"
      ],
      "metadata": {
        "id": "E67p1GcvtIiG"
      }
    },
    {
      "cell_type": "code",
      "source": [
        "def add_numbers(x,y):\n",
        "  return x+y"
      ],
      "metadata": {
        "id": "_sbzy0MtsxIo"
      },
      "execution_count": 17,
      "outputs": []
    },
    {
      "cell_type": "code",
      "source": [
        "v = add_numbers(5,6)"
      ],
      "metadata": {
        "id": "TBO2s2gjs5Jn"
      },
      "execution_count": 18,
      "outputs": []
    },
    {
      "cell_type": "code",
      "source": [
        "v"
      ],
      "metadata": {
        "colab": {
          "base_uri": "https://localhost:8080/"
        },
        "id": "3cJNTP3Hs-J5",
        "outputId": "a6533982-6df2-4e9b-91d2-f8bf90a30e40"
      },
      "execution_count": 19,
      "outputs": [
        {
          "output_type": "execute_result",
          "data": {
            "text/plain": [
              "11"
            ]
          },
          "metadata": {},
          "execution_count": 19
        }
      ]
    },
    {
      "cell_type": "markdown",
      "source": [
        "**5. Default Params**"
      ],
      "metadata": {
        "id": "HCkHzRQUumB5"
      }
    },
    {
      "cell_type": "code",
      "source": [
        "def hello(name = \"Guest\"):\n",
        "  print(f\"Hello {name}!\")"
      ],
      "metadata": {
        "id": "q7-Yln8vuvPH"
      },
      "execution_count": 20,
      "outputs": []
    },
    {
      "cell_type": "code",
      "source": [
        "hello()"
      ],
      "metadata": {
        "colab": {
          "base_uri": "https://localhost:8080/"
        },
        "id": "1g5R0pykvFk_",
        "outputId": "bba0ab26-71cb-4ac8-e432-55b273eac979"
      },
      "execution_count": 21,
      "outputs": [
        {
          "output_type": "stream",
          "name": "stdout",
          "text": [
            "Hello Guest!\n"
          ]
        }
      ]
    },
    {
      "cell_type": "code",
      "source": [
        "hello(\"Raju\")"
      ],
      "metadata": {
        "colab": {
          "base_uri": "https://localhost:8080/"
        },
        "id": "6oU_tDXrvInu",
        "outputId": "11d8e89a-f524-4d0a-de3c-9f30587c0ba9"
      },
      "execution_count": 22,
      "outputs": [
        {
          "output_type": "stream",
          "name": "stdout",
          "text": [
            "Hello Raju!\n"
          ]
        }
      ]
    },
    {
      "cell_type": "markdown",
      "source": [
        "**6. Keyword Arguments - the parameters within the function**"
      ],
      "metadata": {
        "id": "2aLi-1O8vSm_"
      }
    },
    {
      "cell_type": "code",
      "source": [
        "# two numbers = add them\n",
        "def add_numbers(x=10, y=10):\n",
        "  return x+y"
      ],
      "metadata": {
        "id": "l22T1FOfvXWC"
      },
      "execution_count": 23,
      "outputs": []
    },
    {
      "cell_type": "code",
      "source": [
        "add_numbers()"
      ],
      "metadata": {
        "colab": {
          "base_uri": "https://localhost:8080/"
        },
        "id": "UBpgyZ34vu99",
        "outputId": "e457e33d-f749-4704-b5db-7fa270a370a2"
      },
      "execution_count": 24,
      "outputs": [
        {
          "output_type": "execute_result",
          "data": {
            "text/plain": [
              "20"
            ]
          },
          "metadata": {},
          "execution_count": 24
        }
      ]
    },
    {
      "cell_type": "markdown",
      "source": [
        "**7. Scope and Global Variables**"
      ],
      "metadata": {
        "id": "kZR9v25fv6_x"
      }
    },
    {
      "cell_type": "code",
      "source": [
        "def test(x=10):\n",
        "  print(x)"
      ],
      "metadata": {
        "id": "gwdcX6aJwAo3"
      },
      "execution_count": 29,
      "outputs": []
    },
    {
      "cell_type": "code",
      "source": [
        "test()"
      ],
      "metadata": {
        "colab": {
          "base_uri": "https://localhost:8080/"
        },
        "id": "HjVVyH0uwM1C",
        "outputId": "724c71ae-65a3-4ac4-96ae-9a13d1c95555"
      },
      "execution_count": 30,
      "outputs": [
        {
          "output_type": "stream",
          "name": "stdout",
          "text": [
            "10\n"
          ]
        }
      ]
    },
    {
      "cell_type": "code",
      "source": [
        "test(11)"
      ],
      "metadata": {
        "colab": {
          "base_uri": "https://localhost:8080/"
        },
        "id": "34zPo_9RwYmF",
        "outputId": "b3aaf2c0-50cf-416e-fdb8-817a44fae7a7"
      },
      "execution_count": 31,
      "outputs": [
        {
          "output_type": "stream",
          "name": "stdout",
          "text": [
            "11\n"
          ]
        }
      ]
    },
    {
      "cell_type": "code",
      "source": [
        "# global var = defined outside the function\n",
        "\n",
        "x =100\n",
        "def test(y):\n",
        "  global x\n",
        "  print(x,y)\n",
        "test(10)\n",
        "\n"
      ],
      "metadata": {
        "colab": {
          "base_uri": "https://localhost:8080/"
        },
        "id": "2bJfbwKXwbmA",
        "outputId": "9dcf3386-0a0e-47cd-8a6a-c35280c4f0cd"
      },
      "execution_count": 34,
      "outputs": [
        {
          "output_type": "stream",
          "name": "stdout",
          "text": [
            "100 10\n"
          ]
        }
      ]
    },
    {
      "cell_type": "code",
      "source": [
        " n = 23\n",
        "\n",
        " def test(n):\n",
        "  n = 21\n",
        "  print(n)"
      ],
      "metadata": {
        "id": "R9icDdEzxRI3"
      },
      "execution_count": 35,
      "outputs": []
    },
    {
      "cell_type": "code",
      "source": [
        "test(19)"
      ],
      "metadata": {
        "colab": {
          "base_uri": "https://localhost:8080/"
        },
        "id": "KcOkUOUtxiXn",
        "outputId": "036d99a1-3664-4ef5-e1c6-263dd743ce31"
      },
      "execution_count": 36,
      "outputs": [
        {
          "output_type": "stream",
          "name": "stdout",
          "text": [
            "21\n"
          ]
        }
      ]
    },
    {
      "cell_type": "markdown",
      "source": [
        "**8. Nested Functions**"
      ],
      "metadata": {
        "id": "OpYk7q29yHQW"
      }
    },
    {
      "cell_type": "code",
      "source": [
        "def hello(name):\n",
        "  print(f\"Hello {name}\")"
      ],
      "metadata": {
        "id": "xVwGeggNyL-C"
      },
      "execution_count": 37,
      "outputs": []
    },
    {
      "cell_type": "code",
      "source": [
        "def fav_city(city_name, name):\n",
        "  hello(name)\n",
        "  print(f\"Welcome to {city_name}!\")"
      ],
      "metadata": {
        "id": "IJMNugc7yVYR"
      },
      "execution_count": 38,
      "outputs": []
    },
    {
      "cell_type": "code",
      "source": [
        "fav_city(\"Mumbai\",\"Aditya\")"
      ],
      "metadata": {
        "colab": {
          "base_uri": "https://localhost:8080/"
        },
        "id": "hNDOkt90yvz_",
        "outputId": "aba8a224-5711-429f-a553-550fa25ec7fe"
      },
      "execution_count": 39,
      "outputs": [
        {
          "output_type": "stream",
          "name": "stdout",
          "text": [
            "Hello Aditya\n",
            "Welcome to Mumbai!\n"
          ]
        }
      ]
    }
  ]
}