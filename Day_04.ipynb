{
  "nbformat": 4,
  "nbformat_minor": 0,
  "metadata": {
    "colab": {
      "provenance": []
    },
    "kernelspec": {
      "name": "python3",
      "display_name": "Python 3"
    },
    "language_info": {
      "name": "python"
    }
  },
  "cells": [
    {
      "cell_type": "code",
      "execution_count": 5,
      "metadata": {
        "id": "VCqmjE0AXxuR"
      },
      "outputs": [],
      "source": [
        "# for range(start,end)\n",
        "# by default start = 0,range(20) --> 0 to 20"
      ]
    },
    {
      "cell_type": "code",
      "source": [
        "print(1)"
      ],
      "metadata": {
        "colab": {
          "base_uri": "https://localhost:8080/"
        },
        "id": "1YkPSyxBYLQM",
        "outputId": "647216d7-6868-45a8-a36f-418b9c4b9b4a"
      },
      "execution_count": 2,
      "outputs": [
        {
          "output_type": "stream",
          "name": "stdout",
          "text": [
            "1\n"
          ]
        }
      ]
    },
    {
      "cell_type": "code",
      "source": [
        "for i in range(1,10):\n",
        "  print(i)"
      ],
      "metadata": {
        "colab": {
          "base_uri": "https://localhost:8080/"
        },
        "id": "FBejhvWyYg1z",
        "outputId": "11b4e4f7-74bd-422a-f3dc-844b68c30b7e"
      },
      "execution_count": 4,
      "outputs": [
        {
          "output_type": "stream",
          "name": "stdout",
          "text": [
            "1\n",
            "2\n",
            "3\n",
            "4\n",
            "5\n",
            "6\n",
            "7\n",
            "8\n",
            "9\n"
          ]
        }
      ]
    },
    {
      "cell_type": "code",
      "source": [
        "for i in range(100):\n",
        "  print(i)"
      ],
      "metadata": {
        "colab": {
          "base_uri": "https://localhost:8080/"
        },
        "id": "hee_cdqNb7G2",
        "outputId": "47d1f66d-5cd8-45f1-809e-e611fc7a2e11"
      },
      "execution_count": 6,
      "outputs": [
        {
          "output_type": "stream",
          "name": "stdout",
          "text": [
            "0\n",
            "1\n",
            "2\n",
            "3\n",
            "4\n",
            "5\n",
            "6\n",
            "7\n",
            "8\n",
            "9\n",
            "10\n",
            "11\n",
            "12\n",
            "13\n",
            "14\n",
            "15\n",
            "16\n",
            "17\n",
            "18\n",
            "19\n",
            "20\n",
            "21\n",
            "22\n",
            "23\n",
            "24\n",
            "25\n",
            "26\n",
            "27\n",
            "28\n",
            "29\n",
            "30\n",
            "31\n",
            "32\n",
            "33\n",
            "34\n",
            "35\n",
            "36\n",
            "37\n",
            "38\n",
            "39\n",
            "40\n",
            "41\n",
            "42\n",
            "43\n",
            "44\n",
            "45\n",
            "46\n",
            "47\n",
            "48\n",
            "49\n",
            "50\n",
            "51\n",
            "52\n",
            "53\n",
            "54\n",
            "55\n",
            "56\n",
            "57\n",
            "58\n",
            "59\n",
            "60\n",
            "61\n",
            "62\n",
            "63\n",
            "64\n",
            "65\n",
            "66\n",
            "67\n",
            "68\n",
            "69\n",
            "70\n",
            "71\n",
            "72\n",
            "73\n",
            "74\n",
            "75\n",
            "76\n",
            "77\n",
            "78\n",
            "79\n",
            "80\n",
            "81\n",
            "82\n",
            "83\n",
            "84\n",
            "85\n",
            "86\n",
            "87\n",
            "88\n",
            "89\n",
            "90\n",
            "91\n",
            "92\n",
            "93\n",
            "94\n",
            "95\n",
            "96\n",
            "97\n",
            "98\n",
            "99\n"
          ]
        }
      ]
    },
    {
      "cell_type": "code",
      "source": [
        "#print multiple of 10s using for loop\n"
      ],
      "metadata": {
        "id": "XBkIQ6igcio4"
      },
      "execution_count": null,
      "outputs": []
    },
    {
      "cell_type": "code",
      "source": [
        "num = 60\n",
        "if(num%10 ) == 0:\n",
        "  print(num)\n",
        "else:\n",
        "  print(\"\")\n",
        "\n",
        "\n"
      ],
      "metadata": {
        "colab": {
          "base_uri": "https://localhost:8080/"
        },
        "id": "fCqnHLtac-_p",
        "outputId": "21594fbd-8c8e-469b-aacb-b124bc7368db"
      },
      "execution_count": 7,
      "outputs": [
        {
          "output_type": "stream",
          "name": "stdout",
          "text": [
            "60\n"
          ]
        }
      ]
    },
    {
      "cell_type": "code",
      "source": [
        "for i in range(100):\n",
        "  if(i%10) == 0:\n",
        "    print(\"divisible: \",i)\n",
        "  else:\n",
        "    print(\"not divisible: \",i)"
      ],
      "metadata": {
        "colab": {
          "base_uri": "https://localhost:8080/"
        },
        "id": "pw97gzaJdWjR",
        "outputId": "5ae125c6-19d8-48df-b8e2-d2fbd58c6f03"
      },
      "execution_count": 9,
      "outputs": [
        {
          "output_type": "stream",
          "name": "stdout",
          "text": [
            "divisible:  0\n",
            "not divisible:  1\n",
            "not divisible:  2\n",
            "not divisible:  3\n",
            "not divisible:  4\n",
            "not divisible:  5\n",
            "not divisible:  6\n",
            "not divisible:  7\n",
            "not divisible:  8\n",
            "not divisible:  9\n",
            "divisible:  10\n",
            "not divisible:  11\n",
            "not divisible:  12\n",
            "not divisible:  13\n",
            "not divisible:  14\n",
            "not divisible:  15\n",
            "not divisible:  16\n",
            "not divisible:  17\n",
            "not divisible:  18\n",
            "not divisible:  19\n",
            "divisible:  20\n",
            "not divisible:  21\n",
            "not divisible:  22\n",
            "not divisible:  23\n",
            "not divisible:  24\n",
            "not divisible:  25\n",
            "not divisible:  26\n",
            "not divisible:  27\n",
            "not divisible:  28\n",
            "not divisible:  29\n",
            "divisible:  30\n",
            "not divisible:  31\n",
            "not divisible:  32\n",
            "not divisible:  33\n",
            "not divisible:  34\n",
            "not divisible:  35\n",
            "not divisible:  36\n",
            "not divisible:  37\n",
            "not divisible:  38\n",
            "not divisible:  39\n",
            "divisible:  40\n",
            "not divisible:  41\n",
            "not divisible:  42\n",
            "not divisible:  43\n",
            "not divisible:  44\n",
            "not divisible:  45\n",
            "not divisible:  46\n",
            "not divisible:  47\n",
            "not divisible:  48\n",
            "not divisible:  49\n",
            "divisible:  50\n",
            "not divisible:  51\n",
            "not divisible:  52\n",
            "not divisible:  53\n",
            "not divisible:  54\n",
            "not divisible:  55\n",
            "not divisible:  56\n",
            "not divisible:  57\n",
            "not divisible:  58\n",
            "not divisible:  59\n",
            "divisible:  60\n",
            "not divisible:  61\n",
            "not divisible:  62\n",
            "not divisible:  63\n",
            "not divisible:  64\n",
            "not divisible:  65\n",
            "not divisible:  66\n",
            "not divisible:  67\n",
            "not divisible:  68\n",
            "not divisible:  69\n",
            "divisible:  70\n",
            "not divisible:  71\n",
            "not divisible:  72\n",
            "not divisible:  73\n",
            "not divisible:  74\n",
            "not divisible:  75\n",
            "not divisible:  76\n",
            "not divisible:  77\n",
            "not divisible:  78\n",
            "not divisible:  79\n",
            "divisible:  80\n",
            "not divisible:  81\n",
            "not divisible:  82\n",
            "not divisible:  83\n",
            "not divisible:  84\n",
            "not divisible:  85\n",
            "not divisible:  86\n",
            "not divisible:  87\n",
            "not divisible:  88\n",
            "not divisible:  89\n",
            "divisible:  90\n",
            "not divisible:  91\n",
            "not divisible:  92\n",
            "not divisible:  93\n",
            "not divisible:  94\n",
            "not divisible:  95\n",
            "not divisible:  96\n",
            "not divisible:  97\n",
            "not divisible:  98\n",
            "not divisible:  99\n"
          ]
        }
      ]
    }
  ]
}