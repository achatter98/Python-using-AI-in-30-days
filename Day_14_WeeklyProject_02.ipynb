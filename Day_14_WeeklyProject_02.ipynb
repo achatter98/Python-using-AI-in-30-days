{
  "nbformat": 4,
  "nbformat_minor": 0,
  "metadata": {
    "colab": {
      "provenance": []
    },
    "kernelspec": {
      "name": "python3",
      "display_name": "Python 3"
    },
    "language_info": {
      "name": "python"
    }
  },
  "cells": [
    {
      "cell_type": "code",
      "execution_count": 5,
      "metadata": {
        "colab": {
          "base_uri": "https://localhost:8080/"
        },
        "id": "gU0wIm7EVaoe",
        "outputId": "dead1fc8-5a78-4ef4-a87c-c8d02418da2d"
      },
      "outputs": [
        {
          "output_type": "stream",
          "name": "stdout",
          "text": [
            "sum :  3\n"
          ]
        }
      ],
      "source": [
        "operation = \"addition\"\n",
        "a = 1\n",
        "b = 2\n",
        "\n",
        "def add_num(a,b):\n",
        "  sum = a + b\n",
        "  return sum\n",
        "\n",
        "def sub_num(a,b):\n",
        "  sub = a - b\n",
        "  return sub\n",
        "\n",
        "def mul_num(a,b):\n",
        "  mul = a * b\n",
        "  return mul\n",
        "\n",
        "def div_num(a,b):\n",
        "  div = a/b\n",
        "  return div\n",
        "\n",
        "if(operation == \"addition\"):\n",
        "  res = add_num(a,b)\n",
        "  print(\"sum : \",res)\n",
        "elif(operation == \"subtraction\"):\n",
        "  res = sub_num(a,b)\n",
        "  print(\"Minus : \",res)\n",
        "elif(operation == \"multiplication\"):\n",
        "  res = mul_num(a,b)\n",
        "  print(\"Product : \",res)\n",
        "elif(operation == \"division\"):\n",
        "  res = div_num(a,b)\n",
        "  print(\"Division : \",res)"
      ]
    }
  ]
}