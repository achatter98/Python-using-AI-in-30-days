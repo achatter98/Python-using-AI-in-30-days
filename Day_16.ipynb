{
  "nbformat": 4,
  "nbformat_minor": 0,
  "metadata": {
    "colab": {
      "provenance": []
    },
    "kernelspec": {
      "name": "python3",
      "display_name": "Python 3"
    },
    "language_info": {
      "name": "python"
    }
  },
  "cells": [
    {
      "cell_type": "code",
      "execution_count": 12,
      "metadata": {
        "id": "xeKVolFGgHy2"
      },
      "outputs": [],
      "source": [
        "# List [,]\n",
        "# Dict {key:value}\n",
        "# Tuple (,)\n",
        "# Set{,}\n"
      ]
    },
    {
      "cell_type": "markdown",
      "source": [
        "**Creating a Tuple**"
      ],
      "metadata": {
        "id": "C0Z8IC3HgSYw"
      }
    },
    {
      "cell_type": "code",
      "source": [
        "my_tuple = (1,2,3)"
      ],
      "metadata": {
        "id": "W8EXrcJMgVIQ"
      },
      "execution_count": 2,
      "outputs": []
    },
    {
      "cell_type": "code",
      "source": [
        "my_tuple"
      ],
      "metadata": {
        "colab": {
          "base_uri": "https://localhost:8080/"
        },
        "id": "iBT0PP8zgZZX",
        "outputId": "1ef401c7-75b8-471a-991a-c61a638d73f8"
      },
      "execution_count": 3,
      "outputs": [
        {
          "output_type": "execute_result",
          "data": {
            "text/plain": [
              "(1, 2, 3)"
            ]
          },
          "metadata": {},
          "execution_count": 3
        }
      ]
    },
    {
      "cell_type": "markdown",
      "source": [
        "**Accessing Tuple Elements**"
      ],
      "metadata": {
        "id": "NLRgsB0agbrg"
      }
    },
    {
      "cell_type": "code",
      "source": [
        "my_tuple[2]"
      ],
      "metadata": {
        "colab": {
          "base_uri": "https://localhost:8080/"
        },
        "id": "rzcVRL76gfme",
        "outputId": "8be2997d-ea7c-43fb-81e9-04ae5e961516"
      },
      "execution_count": 4,
      "outputs": [
        {
          "output_type": "execute_result",
          "data": {
            "text/plain": [
              "3"
            ]
          },
          "metadata": {},
          "execution_count": 4
        }
      ]
    },
    {
      "cell_type": "markdown",
      "source": [
        "**Tuple Operations**"
      ],
      "metadata": {
        "id": "Vk7w73DuglAv"
      }
    },
    {
      "cell_type": "code",
      "source": [
        "tp1 = (1,2,3)\n",
        "tp2 = (\"a\",\"b\",\"c\")"
      ],
      "metadata": {
        "id": "iIq4lGJ7gpxG"
      },
      "execution_count": 5,
      "outputs": []
    },
    {
      "cell_type": "code",
      "source": [
        "tp1 * 10"
      ],
      "metadata": {
        "colab": {
          "base_uri": "https://localhost:8080/"
        },
        "id": "rbQ3XEzvgzyQ",
        "outputId": "bf27f7fc-3632-4bfa-e4fb-42745a41e56a"
      },
      "execution_count": 6,
      "outputs": [
        {
          "output_type": "execute_result",
          "data": {
            "text/plain": [
              "(1,\n",
              " 2,\n",
              " 3,\n",
              " 1,\n",
              " 2,\n",
              " 3,\n",
              " 1,\n",
              " 2,\n",
              " 3,\n",
              " 1,\n",
              " 2,\n",
              " 3,\n",
              " 1,\n",
              " 2,\n",
              " 3,\n",
              " 1,\n",
              " 2,\n",
              " 3,\n",
              " 1,\n",
              " 2,\n",
              " 3,\n",
              " 1,\n",
              " 2,\n",
              " 3,\n",
              " 1,\n",
              " 2,\n",
              " 3,\n",
              " 1,\n",
              " 2,\n",
              " 3)"
            ]
          },
          "metadata": {},
          "execution_count": 6
        }
      ]
    },
    {
      "cell_type": "markdown",
      "source": [
        "**Tuple Unpacking**"
      ],
      "metadata": {
        "id": "NJrE0Z4zg98H"
      }
    },
    {
      "cell_type": "code",
      "source": [
        "tp1 = (1,2,3)"
      ],
      "metadata": {
        "id": "jbtrzkeAhNEL"
      },
      "execution_count": 7,
      "outputs": []
    },
    {
      "cell_type": "code",
      "source": [
        "a,b,c = (10,20,30)"
      ],
      "metadata": {
        "id": "4OYgdBn7xnvK"
      },
      "execution_count": 8,
      "outputs": []
    },
    {
      "cell_type": "code",
      "source": [
        "b"
      ],
      "metadata": {
        "colab": {
          "base_uri": "https://localhost:8080/"
        },
        "id": "W5Q_AifFxv7a",
        "outputId": "740702b8-1019-4182-bc3a-a7784bf6e4ce"
      },
      "execution_count": 9,
      "outputs": [
        {
          "output_type": "execute_result",
          "data": {
            "text/plain": [
              "20"
            ]
          },
          "metadata": {},
          "execution_count": 9
        }
      ]
    },
    {
      "cell_type": "markdown",
      "source": [
        "**List vs Tuple**"
      ],
      "metadata": {
        "id": "VfZ008LMx3Ao"
      }
    },
    {
      "cell_type": "code",
      "source": [
        "# List - mutable (add,remove,modify ...)\n",
        "# Tuple - Immutable (can't add,can't remove,..)\n",
        "\n",
        "# List - memory high\n",
        "# Tuple - memory low"
      ],
      "metadata": {
        "id": "ld-6Feuax7sR"
      },
      "execution_count": null,
      "outputs": []
    },
    {
      "cell_type": "markdown",
      "source": [
        "**Sets**"
      ],
      "metadata": {
        "id": "nslvbeKjyWo1"
      }
    },
    {
      "cell_type": "code",
      "source": [
        "lst1 =[1,1,2]\n"
      ],
      "metadata": {
        "id": "OGltfAPGyYzu"
      },
      "execution_count": 11,
      "outputs": []
    },
    {
      "cell_type": "code",
      "source": [
        "# unique values in a list\n",
        "set(lst1)"
      ],
      "metadata": {
        "colab": {
          "base_uri": "https://localhost:8080/"
        },
        "id": "xxNdkBygyqtn",
        "outputId": "5ea5d240-b85a-4447-96dc-3df11faf1853"
      },
      "execution_count": 13,
      "outputs": [
        {
          "output_type": "execute_result",
          "data": {
            "text/plain": [
              "{1, 2}"
            ]
          },
          "metadata": {},
          "execution_count": 13
        }
      ]
    },
    {
      "cell_type": "code",
      "source": [
        "s1 = {1,2,3}"
      ],
      "metadata": {
        "id": "cjxjdoJMzF0I"
      },
      "execution_count": 14,
      "outputs": []
    },
    {
      "cell_type": "code",
      "source": [
        "s2 = {2,3,4}"
      ],
      "metadata": {
        "id": "Wsl9Jpy8zKlP"
      },
      "execution_count": 15,
      "outputs": []
    },
    {
      "cell_type": "markdown",
      "source": [
        "**Set Operations**"
      ],
      "metadata": {
        "id": "X55yyooAzPD4"
      }
    },
    {
      "cell_type": "code",
      "source": [
        "s1.union(s2)"
      ],
      "metadata": {
        "colab": {
          "base_uri": "https://localhost:8080/"
        },
        "id": "5gj902lVzR4g",
        "outputId": "c71ca9b8-9b08-4bec-921f-b973cb6f3e9b"
      },
      "execution_count": 16,
      "outputs": [
        {
          "output_type": "execute_result",
          "data": {
            "text/plain": [
              "{1, 2, 3, 4}"
            ]
          },
          "metadata": {},
          "execution_count": 16
        }
      ]
    },
    {
      "cell_type": "code",
      "source": [
        "s1.intersection(s2)"
      ],
      "metadata": {
        "colab": {
          "base_uri": "https://localhost:8080/"
        },
        "id": "9sRpFrAkzYl4",
        "outputId": "64730c3b-5453-4bdd-ea15-53bec3662de2"
      },
      "execution_count": 17,
      "outputs": [
        {
          "output_type": "execute_result",
          "data": {
            "text/plain": [
              "{2, 3}"
            ]
          },
          "metadata": {},
          "execution_count": 17
        }
      ]
    },
    {
      "cell_type": "code",
      "source": [
        "s1.difference(s2)"
      ],
      "metadata": {
        "colab": {
          "base_uri": "https://localhost:8080/"
        },
        "id": "dt3WuvKWzi3n",
        "outputId": "13f2180e-4f27-47ee-d2d8-7d54eb0e9a38"
      },
      "execution_count": 18,
      "outputs": [
        {
          "output_type": "execute_result",
          "data": {
            "text/plain": [
              "{1}"
            ]
          },
          "metadata": {},
          "execution_count": 18
        }
      ]
    },
    {
      "cell_type": "code",
      "source": [
        "s2.difference(s1)"
      ],
      "metadata": {
        "colab": {
          "base_uri": "https://localhost:8080/"
        },
        "id": "WLdq9DrUz2J_",
        "outputId": "577f3909-02d4-4401-86b3-04afc7a2f237"
      },
      "execution_count": 19,
      "outputs": [
        {
          "output_type": "execute_result",
          "data": {
            "text/plain": [
              "{4}"
            ]
          },
          "metadata": {},
          "execution_count": 19
        }
      ]
    }
  ]
}