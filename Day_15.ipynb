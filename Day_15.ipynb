{
  "nbformat": 4,
  "nbformat_minor": 0,
  "metadata": {
    "colab": {
      "provenance": []
    },
    "kernelspec": {
      "name": "python3",
      "display_name": "Python 3"
    },
    "language_info": {
      "name": "python"
    }
  },
  "cells": [
    {
      "cell_type": "code",
      "execution_count": null,
      "metadata": {
        "id": "SyUnyVeUbz6_"
      },
      "outputs": [],
      "source": []
    },
    {
      "cell_type": "markdown",
      "source": [
        "**Creating a Dictionary**"
      ],
      "metadata": {
        "id": "W2wXMjXdb_X0"
      }
    },
    {
      "cell_type": "code",
      "source": [
        "student = {}"
      ],
      "metadata": {
        "id": "L_jQIe28cDRz"
      },
      "execution_count": 1,
      "outputs": []
    },
    {
      "cell_type": "code",
      "source": [
        "# List - []\n",
        "# Dict - {}"
      ],
      "metadata": {
        "id": "8FvkiA5AcL9I"
      },
      "execution_count": 2,
      "outputs": []
    },
    {
      "cell_type": "code",
      "source": [
        "# name,age,gender\n",
        "student = {\"name\":\"Raju\",\"age\":27,\"gender\":\"Male\",\"qualified\":False}\n",
        "\n",
        "# key-value pairs - 3\n",
        "# key & values are linked using :\n"
      ],
      "metadata": {
        "id": "6HUMazPWcSX5"
      },
      "execution_count": 3,
      "outputs": []
    },
    {
      "cell_type": "code",
      "source": [
        "print(student)"
      ],
      "metadata": {
        "colab": {
          "base_uri": "https://localhost:8080/"
        },
        "id": "ywha-Xf-c2qR",
        "outputId": "f23ece76-7998-43a6-f16b-ad0b48e6401a"
      },
      "execution_count": 4,
      "outputs": [
        {
          "output_type": "stream",
          "name": "stdout",
          "text": [
            "{'name': 'Raju', 'age': 27, 'gender': 'Male', 'qualified': False}\n"
          ]
        }
      ]
    },
    {
      "cell_type": "markdown",
      "source": [
        "**2. Accessing values**"
      ],
      "metadata": {
        "id": "MnpWDKWTc5vq"
      }
    },
    {
      "cell_type": "code",
      "source": [
        "student[\"age\"]"
      ],
      "metadata": {
        "colab": {
          "base_uri": "https://localhost:8080/"
        },
        "id": "CsDbe6ENc-GM",
        "outputId": "70965e16-5ada-4f03-e510-157f4c6636ca"
      },
      "execution_count": 5,
      "outputs": [
        {
          "output_type": "execute_result",
          "data": {
            "text/plain": [
              "27"
            ]
          },
          "metadata": {},
          "execution_count": 5
        }
      ]
    },
    {
      "cell_type": "code",
      "source": [
        "student[\"name\"]"
      ],
      "metadata": {
        "colab": {
          "base_uri": "https://localhost:8080/",
          "height": 35
        },
        "id": "BBsblZ3JdEUa",
        "outputId": "6727c33d-602a-468f-ff1e-6f6da5d07d06"
      },
      "execution_count": 6,
      "outputs": [
        {
          "output_type": "execute_result",
          "data": {
            "text/plain": [
              "'Raju'"
            ],
            "application/vnd.google.colaboratory.intrinsic+json": {
              "type": "string"
            }
          },
          "metadata": {},
          "execution_count": 6
        }
      ]
    },
    {
      "cell_type": "code",
      "source": [
        "student[\"name\"] = \"David\"\n",
        "student[\"age\"] = 26"
      ],
      "metadata": {
        "id": "Tz-hlyyVdIA6"
      },
      "execution_count": 8,
      "outputs": []
    },
    {
      "cell_type": "code",
      "source": [
        "student"
      ],
      "metadata": {
        "colab": {
          "base_uri": "https://localhost:8080/"
        },
        "id": "wy9X1R9ZdS_y",
        "outputId": "4798f3a7-1826-4364-9512-b59b5912412c"
      },
      "execution_count": 9,
      "outputs": [
        {
          "output_type": "execute_result",
          "data": {
            "text/plain": [
              "{'name': 'David', 'age': 26, 'gender': 'Male', 'qualified': False}"
            ]
          },
          "metadata": {},
          "execution_count": 9
        }
      ]
    },
    {
      "cell_type": "markdown",
      "source": [
        "**3. Looping through a dictionary**"
      ],
      "metadata": {
        "id": "orwsZCkLdVay"
      }
    },
    {
      "cell_type": "code",
      "source": [
        "student"
      ],
      "metadata": {
        "colab": {
          "base_uri": "https://localhost:8080/"
        },
        "id": "uCPsbuAXdb9H",
        "outputId": "bbbf9fb3-19f8-4d6c-99e5-e02c83833f63"
      },
      "execution_count": 10,
      "outputs": [
        {
          "output_type": "execute_result",
          "data": {
            "text/plain": [
              "{'name': 'David', 'age': 26, 'gender': 'Male', 'qualified': False}"
            ]
          },
          "metadata": {},
          "execution_count": 10
        }
      ]
    },
    {
      "cell_type": "code",
      "source": [
        "for key in student:\n",
        "  print(key)"
      ],
      "metadata": {
        "colab": {
          "base_uri": "https://localhost:8080/"
        },
        "id": "3LHANlMLduNN",
        "outputId": "a5dffb2c-bd55-4967-e671-949410a488fa"
      },
      "execution_count": 11,
      "outputs": [
        {
          "output_type": "stream",
          "name": "stdout",
          "text": [
            "name\n",
            "age\n",
            "gender\n",
            "qualified\n"
          ]
        }
      ]
    },
    {
      "cell_type": "code",
      "source": [
        "for value in student.values():\n",
        "  print(value)"
      ],
      "metadata": {
        "colab": {
          "base_uri": "https://localhost:8080/"
        },
        "id": "zmAKr7mXdy6y",
        "outputId": "502467ca-77a2-411f-ab8f-e7c25d5fbbb1"
      },
      "execution_count": 12,
      "outputs": [
        {
          "output_type": "stream",
          "name": "stdout",
          "text": [
            "David\n",
            "26\n",
            "Male\n",
            "False\n"
          ]
        }
      ]
    },
    {
      "cell_type": "code",
      "source": [
        "for k,v in student.items():\n",
        "  print(k,v)"
      ],
      "metadata": {
        "colab": {
          "base_uri": "https://localhost:8080/"
        },
        "id": "QmJX7vTEd9-u",
        "outputId": "0612fdfb-9e53-4841-89f6-57383b9b46bb"
      },
      "execution_count": 13,
      "outputs": [
        {
          "output_type": "stream",
          "name": "stdout",
          "text": [
            "name David\n",
            "age 26\n",
            "gender Male\n",
            "qualified False\n"
          ]
        }
      ]
    },
    {
      "cell_type": "code",
      "source": [
        "# to check if the name is actually a key in the dictionary\n",
        "\n",
        "for k in student:\n",
        "  if k == \"name\":\n",
        "    print(\"Found the key\")\n"
      ],
      "metadata": {
        "colab": {
          "base_uri": "https://localhost:8080/"
        },
        "id": "jCBySf3PeLnJ",
        "outputId": "331395eb-a3d3-4c2b-b326-1989b00ed986"
      },
      "execution_count": 14,
      "outputs": [
        {
          "output_type": "stream",
          "name": "stdout",
          "text": [
            "Found the key\n"
          ]
        }
      ]
    },
    {
      "cell_type": "code",
      "source": [
        "if \"name\" in student:\n",
        "  print(True)\n",
        "else:\n",
        "  print(False)"
      ],
      "metadata": {
        "colab": {
          "base_uri": "https://localhost:8080/"
        },
        "id": "4OL8nBlFeeU9",
        "outputId": "dbdb7b99-699d-4ba5-db2d-ce8de9d8e1c9"
      },
      "execution_count": 16,
      "outputs": [
        {
          "output_type": "stream",
          "name": "stdout",
          "text": [
            "True\n"
          ]
        }
      ]
    },
    {
      "cell_type": "code",
      "source": [
        "if \"hobby\" in student:\n",
        "  print(True)\n",
        "else:\n",
        "  print(False)"
      ],
      "metadata": {
        "colab": {
          "base_uri": "https://localhost:8080/"
        },
        "id": "fQWlrjcqeosp",
        "outputId": "58721a0e-c352-45b9-ea18-46413000876b"
      },
      "execution_count": 17,
      "outputs": [
        {
          "output_type": "stream",
          "name": "stdout",
          "text": [
            "False\n"
          ]
        }
      ]
    }
  ]
}