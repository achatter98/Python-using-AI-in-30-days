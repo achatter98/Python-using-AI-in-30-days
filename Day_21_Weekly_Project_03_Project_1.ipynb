{
  "nbformat": 4,
  "nbformat_minor": 0,
  "metadata": {
    "colab": {
      "provenance": []
    },
    "kernelspec": {
      "name": "python3",
      "display_name": "Python 3"
    },
    "language_info": {
      "name": "python"
    }
  },
  "cells": [
    {
      "cell_type": "code",
      "execution_count": 1,
      "metadata": {
        "colab": {
          "base_uri": "https://localhost:8080/"
        },
        "id": "vhnZTKWMrzIY",
        "outputId": "f559ccd0-3e26-4712-abd1-157fea777622"
      },
      "outputs": [
        {
          "output_type": "stream",
          "name": "stdout",
          "text": [
            "The most repetitive number is: 2\n"
          ]
        }
      ],
      "source": [
        "L1 = [1, 2, 2, 3, 2, 3, 4, 5]\n",
        "most_repeated = None\n",
        "max_count = 0\n",
        "\n",
        "for num in L1:\n",
        "    count = L1.count(num)\n",
        "    if count > max_count:\n",
        "        max_count = count\n",
        "        most_repeated = num\n",
        "\n",
        "print(\"The most repetitive number is:\", most_repeated)"
      ]
    }
  ]
}