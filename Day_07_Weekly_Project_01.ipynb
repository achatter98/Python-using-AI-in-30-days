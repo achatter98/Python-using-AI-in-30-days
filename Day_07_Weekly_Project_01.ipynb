{
  "nbformat": 4,
  "nbformat_minor": 0,
  "metadata": {
    "colab": {
      "provenance": [],
      "authorship_tag": "ABX9TyP4QorcTrsVlDTdXeEcatiX",
      "include_colab_link": true
    },
    "kernelspec": {
      "name": "python3",
      "display_name": "Python 3"
    },
    "language_info": {
      "name": "python"
    }
  },
  "cells": [
    {
      "cell_type": "markdown",
      "metadata": {
        "id": "view-in-github",
        "colab_type": "text"
      },
      "source": [
        "<a href=\"https://colab.research.google.com/github/achatter98/Python-using-AI-in-30-days/blob/main/Day_07_Weekly_Project_01.ipynb\" target=\"_parent\"><img src=\"https://colab.research.google.com/assets/colab-badge.svg\" alt=\"Open In Colab\"/></a>"
      ]
    },
    {
      "cell_type": "code",
      "execution_count": 1,
      "metadata": {
        "id": "5Pi8aGi5USqY"
      },
      "outputs": [],
      "source": [
        "checklist = [\n",
        "    \"Morning Exercise\",\n",
        "    \"Reading Programming Book\",\n",
        "    \"Complete Python Assignment\",\n",
        "    \"Write Blog Post\",\n",
        "    \"Practice Coding\"\n",
        "]"
      ]
    },
    {
      "cell_type": "code",
      "source": [
        "completed_tasks = []\n",
        "incomplete_tasks = []"
      ],
      "metadata": {
        "id": "fK--ZepIU0tp"
      },
      "execution_count": 2,
      "outputs": []
    },
    {
      "cell_type": "code",
      "source": [
        "def manage_tasks(task,is_completed):\n",
        "    if is_completed:\n",
        "        completed_tasks.append(task)\n",
        "        checklist.remove(task)\n",
        "    else:\n",
        "        incomplete_tasks.append(task)\n",
        "        checklist.remove(task)"
      ],
      "metadata": {
        "id": "UQwHWMDEU77E"
      },
      "execution_count": 3,
      "outputs": []
    },
    {
      "cell_type": "code",
      "source": [
        "manage_tasks(\"Morning Exercise\",True)\n",
        "manage_tasks(\"Reading Programming Book\",True)\n",
        "manage_tasks(\"Complete Python Assignment\",True)\n",
        "manage_tasks(\"Write Blog Post\",False)\n",
        "manage_tasks(\"Practice Coding\",False)"
      ],
      "metadata": {
        "id": "-_oWYWGNVTi9"
      },
      "execution_count": 5,
      "outputs": []
    },
    {
      "cell_type": "code",
      "source": [
        "print(\"Completed Tasks:\",completed_tasks)\n",
        "print(\"Incomplete Tasks:\",incomplete_tasks)"
      ],
      "metadata": {
        "colab": {
          "base_uri": "https://localhost:8080/"
        },
        "id": "n38IXVgbVgom",
        "outputId": "f62686ec-c2b7-4b55-ecae-ab56eb9d9bdb"
      },
      "execution_count": 6,
      "outputs": [
        {
          "output_type": "stream",
          "name": "stdout",
          "text": [
            "Completed Tasks: ['Morning Exercise', 'Reading Programming Book', 'Complete Python Assignment']\n",
            "Incomplete Tasks: ['Write Blog Post', 'Practice Coding']\n"
          ]
        }
      ]
    }
  ]
}